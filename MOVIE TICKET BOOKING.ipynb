{
 "cells": [
  {
   "cell_type": "code",
   "execution_count": 2,
   "metadata": {},
   "outputs": [
    {
     "name": "stdout",
     "output_type": "stream",
     "text": [
      "<mysql.connector.connection_cext.CMySQLConnection object at 0x00000259F378E1C8>\n"
     ]
    }
   ],
   "source": [
    "import mysql.connector \n",
    "mydb=mysql.connector.connect(host=\"localhost\",user=\"root\",passwd=\"root\")\n",
    "print(mydb)"
   ]
  },
  {
   "cell_type": "code",
   "execution_count": 2,
   "metadata": {},
   "outputs": [
    {
     "data": {
      "text/plain": [
       "1"
      ]
     },
     "execution_count": 2,
     "metadata": {},
     "output_type": "execute_result"
    }
   ],
   "source": [
    "import pymysql.cursors\n",
    "connection=pymysql.connect(host=\"localhost\",user=\"root\",port=\"\",password=\"\")\n",
    "mycursor=connection.cursor()\n",
    "\n",
    "mycursor.execute(\"CREATE DATABASE THEATRE\")"
   ]
  },
  {
   "cell_type": "code",
   "execution_count": 3,
   "metadata": {},
   "outputs": [
    {
     "data": {
      "text/plain": [
       "0"
      ]
     },
     "execution_count": 3,
     "metadata": {},
     "output_type": "execute_result"
    }
   ],
   "source": [
    "import pymysql.cursors\n",
    "connection=pymysql.connect(host=\"localhost\",user=\"root\",port=\"\",password=\"\",database=\"THEATRE\")\n",
    "\n",
    "mycursor=connection.cursor()\n",
    "\n",
    "mycursor.execute(\"Create Table Firstclass(Movie char(30), Availabletickets int, Cost int,Showtime TIME,Language varchar(10))\")"
   ]
  },
  {
   "cell_type": "code",
   "execution_count": 5,
   "metadata": {},
   "outputs": [
    {
     "name": "stdout",
     "output_type": "stream",
     "text": [
      "5 record(s) inserted.\n"
     ]
    }
   ],
   "source": [
    "import pymysql.cursors\n",
    "connection=pymysql.connect(host=\"localhost\",user=\"root\",port=\"\",password=\"\",database=\"THEATRE\")\n",
    "\n",
    "mycursor=connection.cursor() \n",
    "sql = \"INSERT INTO Firstclass (Movie, Availabletickets, Cost, Showtime, Language) VALUES (%s,%s,%s,%s,%s)\"\n",
    "val = [\n",
    "    (\"MASTER\",\"64\",\"200\",\"09:00:00/12:00:00/15:30:00/18:00:00/21:30:00\",\"Tam/Tel/Kan\"),\n",
    "    (\"SooraraiPotru\",\"88\",\"180\",\"12:00:00/15:30:00/18:00:00/21:30:00\",\"Tam/Tel\"),\n",
    "    (\"TENET\",\"45\",\"220\",\"15:30:00/18:00:00\",\"Eng/Tam\"),\n",
    "    (\"Avatar-II\",\"97\",\"230\",\"10:00:00/12:00:00/15:30:00/18:00:00\",\"English\"),\n",
    "    (\"RRR\",\"75\",\"180\",\"08:00:00/12:00:00/15:30:00/18:00:00/21:30:00\",\"Telugu\")\n",
    "]\n",
    "\n",
    "mycursor.executemany(sql, val)\n",
    "connection.commit()\n",
    "print(mycursor.rowcount, \"record(s) inserted.\")\n"
   ]
  },
  {
   "cell_type": "code",
   "execution_count": 6,
   "metadata": {},
   "outputs": [
    {
     "data": {
      "text/plain": [
       "0"
      ]
     },
     "execution_count": 6,
     "metadata": {},
     "output_type": "execute_result"
    }
   ],
   "source": [
    "import pymysql.cursors\n",
    "connection=pymysql.connect(host=\"localhost\",user=\"root\",port=\"\",password=\"\",database=\"THEATRE\")\n",
    "\n",
    "mycursor=connection.cursor()\n",
    "\n",
    "mycursor.execute(\"Create Table Balcony(Movie char(30), Availabletickets int, Cost int,Showtime TIME,Language varchar(10))\")"
   ]
  },
  {
   "cell_type": "code",
   "execution_count": 8,
   "metadata": {},
   "outputs": [
    {
     "name": "stdout",
     "output_type": "stream",
     "text": [
      "5 record(s) inserted.\n"
     ]
    }
   ],
   "source": [
    "import pymysql.cursors\n",
    "connection=pymysql.connect(host=\"localhost\",user=\"root\",port=\"\",password=\"\",database=\"THEATRE\")\n",
    "\n",
    "mycursor=connection.cursor() \n",
    "sql = \"INSERT INTO Balcony (Movie, Availabletickets, Cost, Showtime, Language) VALUES (%s,%s,%s,%s,%s)\"\n",
    "val = [\n",
    "    (\"MASTER\",\"14\",\"270\",\"18:00:00/21:30:00\",\"Tam/Tel/Kan\"),\n",
    "    (\"SooraraiPotru\",\"23\",\"270\",\"15:30:00/18:00:00/21:30:00\",\"Tam/Tel\"),\n",
    "    (\"TENET\",\"17\",\"270\",\"15:30:00/18:00:00\",\"Eng/Tam\"),\n",
    "    (\"Avatar-II\",\"11\",\"270\",\"10:00:00/12:00:00\",\"English\"),\n",
    "    (\"RRR\",\"25\",\"270\",\"15:30:00/18:00:00\",\"Telugu\")\n",
    "]\n",
    "\n",
    "mycursor.executemany(sql, val)\n",
    "connection.commit()\n",
    "print(mycursor.rowcount, \"record(s) inserted.\")\n"
   ]
  },
  {
   "cell_type": "code",
   "execution_count": 9,
   "metadata": {},
   "outputs": [
    {
     "data": {
      "text/plain": [
       "0"
      ]
     },
     "execution_count": 9,
     "metadata": {},
     "output_type": "execute_result"
    }
   ],
   "source": [
    "import pymysql.cursors\n",
    "connection=pymysql.connect(host=\"localhost\",user=\"root\",port=\"\",password=\"\",database=\"THEATRE\")\n",
    "\n",
    "mycursor=connection.cursor()\n",
    "\n",
    "mycursor.execute(\"Create Table BOX(Movie char(30), Availabletickets int, Cost int,Showtime TIME,Language varchar(10))\")"
   ]
  },
  {
   "cell_type": "code",
   "execution_count": 11,
   "metadata": {},
   "outputs": [
    {
     "name": "stdout",
     "output_type": "stream",
     "text": [
      "5 record(s) inserted.\n"
     ]
    }
   ],
   "source": [
    "import pymysql.cursors\n",
    "connection=pymysql.connect(host=\"localhost\",user=\"root\",port=\"\",password=\"\",database=\"THEATRE\")\n",
    "\n",
    "mycursor=connection.cursor() \n",
    "sql = \"INSERT INTO BOX (Movie, Availabletickets, Cost, Showtime, Language) VALUES (%s,%s,%s,%s,%s)\"\n",
    "val = [\n",
    "    (\"MASTER\",\"3\",\"350\",\"18:00:00/21:30:00\",\"Tam/Tel/Kan\"),\n",
    "    (\"SooraraiPotru\",\"8\",\"330\",\"15:30:00/18:00:00/21:30:00\",\"Tam/Tel\"),\n",
    "    (\"TENET\",\"12\",\"370\",\"15:30:00/18:00:00\",\"Eng/Tam\"),\n",
    "    (\"Avatar-II\",\"2\",\"400\",\"10:00:00/12:00:00\",\"English\"),\n",
    "    (\"RRR\",\"15\",\"330\",\"15:30:00/18:00:00\",\"Telugu\")\n",
    "]\n",
    "\n",
    "mycursor.executemany(sql, val)\n",
    "connection.commit()\n",
    "print(mycursor.rowcount, \"record(s) inserted.\")\n"
   ]
  },
  {
   "cell_type": "code",
   "execution_count": 14,
   "metadata": {},
   "outputs": [
    {
     "name": "stdout",
     "output_type": "stream",
     "text": [
      "('balcony',)\n",
      "('box',)\n",
      "('firstclass',)\n"
     ]
    }
   ],
   "source": [
    "import pymysql.cursors\n",
    "connection=pymysql.connect(host=\"localhost\",user=\"root\",port=\"\",password=\"\",database=\"THEATRE\")\n",
    "mycursor=connection.cursor()\n",
    "mycursor.execute(\"show tables\")\n",
    "for i in mycursor:\n",
    "    print(i)\n",
    "                           "
   ]
  },
  {
   "cell_type": "code",
   "execution_count": 22,
   "metadata": {},
   "outputs": [
    {
     "name": "stdout",
     "output_type": "stream",
     "text": [
      "Movie= MASTER\n",
      "Available Tickets= 64\n",
      "Cost= 200\n",
      "Showtime= 9:00:00\n",
      "Language= Tam/Tel/Ka \n",
      "\n",
      "Movie= SooraraiPotru\n",
      "Available Tickets= 88\n",
      "Cost= 180\n",
      "Showtime= 12:00:00\n",
      "Language= Tam/Tel \n",
      "\n",
      "Movie= TENET\n",
      "Available Tickets= 45\n",
      "Cost= 220\n",
      "Showtime= 15:30:00\n",
      "Language= Eng/Tam \n",
      "\n",
      "Movie= Avatar-II\n",
      "Available Tickets= 97\n",
      "Cost= 230\n",
      "Showtime= 10:00:00\n",
      "Language= English \n",
      "\n",
      "Movie= RRR\n",
      "Available Tickets= 75\n",
      "Cost= 180\n",
      "Showtime= 8:00:00\n",
      "Language= Telugu \n",
      "\n"
     ]
    }
   ],
   "source": [
    "import pymysql.cursors\n",
    "connection=pymysql.connect(host=\"localhost\",user=\"root\",port=\"\",password=\"\",database=\"THEATRE\")\n",
    "mycursor=connection.cursor()\n",
    "mycursor.execute(\"select*from firstclass\")\n",
    "records=mycursor.fetchall()\n",
    "for i in records:\n",
    "    print(\"Movie=\",i[0],)\n",
    "    print(\"Available Tickets=\",i[1],)\n",
    "    print(\"Cost=\",i[2],)\n",
    "    print(\"Showtime=\",i[3],)\n",
    "    print(\"Language=\",i[4],\"\\n\")"
   ]
  },
  {
   "cell_type": "code",
   "execution_count": 21,
   "metadata": {},
   "outputs": [
    {
     "name": "stdout",
     "output_type": "stream",
     "text": [
      "Movie= MASTER\n",
      "Available Tickets= 14\n",
      "Cost= 270\n",
      "Showtime= 18:00:00\n",
      "language= Tam/Tel/Ka \n",
      "\n",
      "Movie= SooraraiPotru\n",
      "Available Tickets= 23\n",
      "Cost= 270\n",
      "Showtime= 15:30:00\n",
      "language= Tam/Tel \n",
      "\n",
      "Movie= TENET\n",
      "Available Tickets= 17\n",
      "Cost= 270\n",
      "Showtime= 15:30:00\n",
      "language= Eng/Tam \n",
      "\n",
      "Movie= Avatar-II\n",
      "Available Tickets= 11\n",
      "Cost= 270\n",
      "Showtime= 10:00:00\n",
      "language= English \n",
      "\n",
      "Movie= RRR\n",
      "Available Tickets= 25\n",
      "Cost= 270\n",
      "Showtime= 15:30:00\n",
      "language= Telugu \n",
      "\n"
     ]
    }
   ],
   "source": [
    "import pymysql.cursors\n",
    "connection=pymysql.connect(host=\"localhost\",user=\"root\",port=\"\",password=\"\",database=\"THEATRE\")\n",
    "mycursor=connection.cursor()\n",
    "mycursor.execute(\"select*from balcony\")\n",
    "records=mycursor.fetchall()\n",
    "for i in records:\n",
    "    print(\"Movie=\",i[0],)\n",
    "    print(\"Available Tickets=\",i[1],)\n",
    "    print(\"Cost=\",i[2],)\n",
    "    print(\"Showtime=\",i[3],)\n",
    "    print(\"language=\",i[4],\"\\n\")"
   ]
  },
  {
   "cell_type": "code",
   "execution_count": 30,
   "metadata": {},
   "outputs": [
    {
     "name": "stdout",
     "output_type": "stream",
     "text": [
      "Movie= MASTER\n",
      "Available Tickets= 3\n",
      "Cost= 350\n",
      "Showtime= 18:00:00\n",
      "language= Tam/Tel/Ka \n",
      "\n",
      "Movie= SooraraiPotru\n",
      "Available Tickets= 8\n",
      "Cost= 330\n",
      "Showtime= 15:30:00\n",
      "language= Tam/Tel \n",
      "\n",
      "Movie= TENET\n",
      "Available Tickets= 12\n",
      "Cost= 370\n",
      "Showtime= 15:30:00\n",
      "language= Eng/Tam \n",
      "\n",
      "Movie= Avatar-II\n",
      "Available Tickets= 2\n",
      "Cost= 400\n",
      "Showtime= 10:00:00\n",
      "language= English \n",
      "\n",
      "Movie= RRR\n",
      "Available Tickets= 15\n",
      "Cost= 330\n",
      "Showtime= 15:30:00\n",
      "language= Telugu \n",
      "\n"
     ]
    }
   ],
   "source": [
    "import pymysql.cursors\n",
    "connection=pymysql.connect(host=\"localhost\",user=\"root\",port=\"\",password=\"\",database=\"THEATRE\")\n",
    "mycursor=connection.cursor()\n",
    "mycursor.execute(\"select*from box\")\n",
    "records=mycursor.fetchall()\n",
    "for i in records:\n",
    "    print(\"Movie=\",i[0],)\n",
    "    print(\"Available Tickets=\",i[1],)\n",
    "    print(\"Cost=\",i[2],)\n",
    "    print(\"Showtime=\",i[3],)\n",
    "    print(\"language=\",i[4],\"\\n\")"
   ]
  },
  {
   "cell_type": "code",
   "execution_count": 4,
   "metadata": {},
   "outputs": [
    {
     "name": "stdout",
     "output_type": "stream",
     "text": [
      "+=+=+=+=+=+=+THEATRE ZONE+=+=+=+=+=+=+\n",
      "-_-_-_-_-_-_-_-!WELCOME TO THEATRE ZONE!-_-_-_-_-_-_-_-\n",
      "Available Options:\n",
      "SIR/MAM\n",
      "WE KINDLY REQUEST YOU TO MAKE YOUR CHOICE,NOTE: BOOKING COST VARIES ACCORDING TO YOUR PREFERRED CHOICE #MENTIONED BELOW\n",
      ":FOR BEST EXPERIENCE WE WOULD PREFER YOU BOX=1:\n",
      ":MODERATE VIEW+COMFORT WE WOULD LIKE TO PREFER YOU BALCONY=2:\n",
      ":NORMAL EXPERIENCE+COMFORT WE WOULD PREFER YOU FIRST CLASS=3:\n",
      "1,2,3\n",
      "PLEASE ENTER YOUR OPTION:1\n",
      "\n",
      "MOVIE= MASTER\n",
      "AVAILABLE TICKETS= 64\n",
      "COST= 200\n",
      "SHOWTIME= 9:00:00\n",
      "LANGUAGE= Tam/Tel/Ka \n",
      "\n",
      "MOVIE= SooraraiPotru\n",
      "AVAILABLE TICKETS= 88\n",
      "COST= 200\n",
      "SHOWTIME= 12:00:00\n",
      "LANGUAGE= Tam/Tel \n",
      "\n",
      "MOVIE= TENET\n",
      "AVAILABLE TICKETS= 45\n",
      "COST= 200\n",
      "SHOWTIME= 15:30:00\n",
      "LANGUAGE= Eng/Tam \n",
      "\n",
      "MOVIE= Avatar-II\n",
      "AVAILABLE TICKETS= 97\n",
      "COST= 200\n",
      "SHOWTIME= 10:00:00\n",
      "LANGUAGE= English \n",
      "\n",
      "MOVIE= RRR\n",
      "AVAILABLE TICKETS= 75\n",
      "COST= 200\n",
      "SHOWTIME= 8:00:00\n",
      "LANGUAGE= Telugu \n",
      "\n"
     ]
    }
   ],
   "source": [
    "import pymysql.cursors\n",
    "connection=pymysql.connect(host=\"localhost\",user=\"root\",port=\"\",password=\"\",database=\"THEATRE\")\n",
    "mycursor=connection.cursor() \n",
    "print(\"+=+=+=+=+=+=+THEATRE ZONE+=+=+=+=+=+=+\")\n",
    "print(\"-_-_-_-_-_-_-_-!WELCOME TO THEATRE ZONE!-_-_-_-_-_-_-_-\")\n",
    "print(\"Available Options:\")\n",
    "print(\"SIR/MAM\")\n",
    "print(\"WE KINDLY REQUEST YOU TO MAKE YOUR CHOICE,NOTE: BOOKING COST VARIES ACCORDING TO YOUR PREFERRED CHOICE #MENTIONED BELOW\")\n",
    "print(\"-> FOR BEST EXPERIENCE WE WOULD PREFER YOU BOX=1:\")\n",
    "print(\"-> MODERATE VIEW+COMFORT WE WOULD LIKE TO PREFER YOU BALCONY=2:\")\n",
    "print(\"-> NORMAL EXPERIENCE+COMFORT WE WOULD PREFER YOU FIRST CLASS=3:\")\n",
    "print(\"1,2,3\")\n",
    "option=int(input(\"PLEASE ENTER YOUR OPTION:\"))\n",
    "print(\"\")\n",
    "\n",
    "if option==1:\n",
    "    mycursor.execute(\"select*from firstclass\")\n",
    "    records=mycursor.fetchall()\n",
    "    for i in records:\n",
    "        print(\"MOVIE=\",i[0],)\n",
    "        print(\"AVAILABLE TICKETS=\",i[1],)\n",
    "        print(\"COST=\",i[2],)\n",
    "        print(\"SHOWTIME=\",i[3],)\n",
    "        print(\"LANGUAGE=\",i[4],\"\\n\")\n",
    "\n",
    "elif option==2:\n",
    "    mycursor.execute(\"select*from balcony\")\n",
    "    records=mycursor.fetchall()\n",
    "    for i in records:\n",
    "        print(\"MOVIE=\",i[0],)\n",
    "        print(\"AVAILABLE TICKETS=\",i[1],)\n",
    "        print(\"COST=\",i[2],)\n",
    "        print(\"SHOWTIME=\",i[3],)\n",
    "        print(\"LANGUAGE=\",i[4],\"\\n\")\n",
    "\n",
    "elif option==3:\n",
    "    mycursor.execute(\"select*from box\")\n",
    "    records=mycursor.fetchall()\n",
    "    for i in records:\n",
    "        print(\"MOVIE=\",i[0],)\n",
    "        print(\"AVAILABLE TICKETS=\",i[1],)\n",
    "        print(\"COST=\",i[2],)\n",
    "        print(\"SHOWTIME=\",i[3],)\n",
    "        print(\"LANGUAGE=\",i[4],\"\\n\")  "
   ]
  },
  {
   "cell_type": "code",
   "execution_count": 6,
   "metadata": {},
   "outputs": [
    {
     "name": "stdout",
     "output_type": "stream",
     "text": [
      "MOVIE NAME FROM THE ABOVE SCREENING MOVIES: MASTER\n",
      "NO OF TICKESTS: 2\n",
      "PLEASE ENTER YOUR NAME: Jagadheesh\n",
      "DD/MM/YYYY: 14.11.2020\n",
      "PLEASE ENTER YOUR MAIL ID OR MOBILE NO: 8989999233\n",
      "PLEASE ENTER YOUR PREFERRED LANGUAGE: Tamil\n"
     ]
    }
   ],
   "source": [
    "MOVIE=input(\"MOVIE NAME FROM THE ABOVE SCREENING MOVIES: \")\n",
    "TICKETS=int(input(\"NO OF TICKESTS: \"))\n",
    "CUSTOMERNAME=input(\"PLEASE ENTER YOUR NAME: \") \n",
    "DATE=input('DD/MM/YYYY: ')\n",
    "SUMMARY_DETAILS_VIA=int(input(\"PLEASE ENTER YOUR MAIL ID OR MOBILE NO: \"))\n",
    "LANGUAGE=input(\"PLEASE ENTER YOUR PREFERRED LANGUAGE: \")"
   ]
  },
  {
   "cell_type": "code",
   "execution_count": 7,
   "metadata": {},
   "outputs": [
    {
     "name": "stdout",
     "output_type": "stream",
     "text": [
      "*************Please wait!!!Your bill is being processed*************\n",
      "Your seat numbers are:: 74 - 76\n",
      "Total amount==Rs. 400\n",
      "------------------Congratulations!!!-----------\\\\-Your tickets have been booked for MASTER on 14.11.2020\n",
      "A message would be sent to your mobile number 8989999233.0 Please show it at the ticket booth in front of the theatre\n",
      "Enjoy your show!!!!!!\n"
     ]
    }
   ],
   "source": [
    "import random\n",
    "import time\n",
    "print(\"*************Please wait!!!Your bill is being processed*************\")\n",
    "time.sleep(5)\n",
    "if option==1:\n",
    "    bill=TICKETS*200\n",
    "elif option==2:\n",
    "    bill=TICKETS*270\n",
    "elif option==3:\n",
    "    bill=TICKETS*350\n",
    "seats=random.randrange(1,100)\n",
    "print(\"Your seat numbers are::\",seats,\"-\",seats+TICKETS)\n",
    "print(\"Total amount==Rs.\",bill)\n",
    "time.sleep(3)\n",
    "print(\"------------------Congratulations!!!-----------\\\\\\\\-Your tickets have been booked for\", MOVIE,\"on\",DATE)\n",
    "print(\"A message would be sent to your mobile number\",SUMMARY_DETAILS_VIA,\"Please show it at the ticket booth in front of the theatre\")\n",
    "print(\"Enjoy your show!!!!!!\")"
   ]
  },
  {
   "cell_type": "code",
   "execution_count": 10,
   "metadata": {},
   "outputs": [
    {
     "data": {
      "text/plain": [
       "0"
      ]
     },
     "execution_count": 10,
     "metadata": {},
     "output_type": "execute_result"
    }
   ],
   "source": [
    "import pymysql.cursors\n",
    "connection=pymysql.connect(host=\"localhost\",user=\"root\",port=\"\",password=\"\",database=\"THEATRE\")\n",
    "mycursor=connection.cursor()\n",
    "mycursor.execute(\"CREATE TABLE Snacks(Items varchar(30),Price int(20))\")"
   ]
  },
  {
   "cell_type": "code",
   "execution_count": 11,
   "metadata": {},
   "outputs": [
    {
     "name": "stdout",
     "output_type": "stream",
     "text": [
      "5 record(s) inserted.\n"
     ]
    }
   ],
   "source": [
    "import pymysql.cursors\n",
    "connection=pymysql.connect(host=\"localhost\",user=\"root\",port=\"\",password=\"\",database=\"THEATRE\")\n",
    "mycursor=connection.cursor()\n",
    "sql=\"INSERT INTO Snacks(Items,Price) VALUES(%s,%s)\"\n",
    "val=[\n",
    "    (\"Soft Drinks\",\"250\"),\n",
    "    (\"Icecream\",\"150\"),\n",
    "    (\"Popcorn\",\"100\"),\n",
    "    (\"Chips\",\"50\"),\n",
    "    (\"Samosa\",\"25\")\n",
    "]\n",
    "mycursor.executemany(sql,val)\n",
    "connection.commit()\n",
    "print(mycursor.rowcount, \"record(s) inserted.\")"
   ]
  },
  {
   "cell_type": "code",
   "execution_count": 6,
   "metadata": {},
   "outputs": [
    {
     "name": "stdout",
     "output_type": "stream",
     "text": [
      "Items: Soft Drinks\n",
      "Price: 250 \n",
      "\n",
      "Items: Icecream\n",
      "Price: 150 \n",
      "\n",
      "Items: Popcorn\n",
      "Price: 100 \n",
      "\n",
      "Items: Chips\n",
      "Price: 50 \n",
      "\n",
      "Items: Samosa\n",
      "Price: 25 \n",
      "\n"
     ]
    }
   ],
   "source": [
    "import pymysql.cursors\n",
    "connection=pymysql.connect(host=\"localhost\",user=\"root\",port=\"\",password=\"\",database=\"THEATRE\")\n",
    "mycursor=connection.cursor()\n",
    "mycursor.execute(\"SELECT* FROM Snacks\")\n",
    "records=mycursor.fetchall()\n",
    "for i in records:\n",
    "    print(\"Items:\",i[0],)\n",
    "    print(\"Price:\",i[1],\"\\n\")\n"
   ]
  },
  {
   "cell_type": "code",
   "execution_count": 7,
   "metadata": {},
   "outputs": [
    {
     "name": "stdout",
     "output_type": "stream",
     "text": [
      "*****WELCOME TO OUR CAFETERIA*****\n",
      "Number of Snacks that you are going to buy from our Cafeteria: 10\n",
      "Enter the snacks that you want from our Cafeteria: chips\n",
      "Enter the snacks that you want from our Cafeteria: chips\n",
      "Enter the snacks that you want from our Cafeteria: chips\n",
      "Enter the snacks that you want from our Cafeteria: chips\n",
      "Enter the snacks that you want from our Cafeteria: chips\n",
      "Enter the snacks that you want from our Cafeteria: chips\n",
      "Enter the snacks that you want from our Cafeteria: chips\n",
      "Enter the snacks that you want from our Cafeteria: chiips\n",
      "Enter the snacks that you want from our Cafeteria: chips\n",
      "Enter the snacks that you want from our Cafeteria: chips\n",
      "Snacks that you entered are: ['chips', 'chips', 'chips', 'chips', 'chips', 'chips', 'chips', 'chiips', 'chips', 'chips']\n",
      "***Please wait your bill is on process***\n",
      "Your bill is: Rs. 0\n",
      "**THANK YOU VISIT AGAIN**\n"
     ]
    }
   ],
   "source": [
    "import time\n",
    "import pymysql.cursors\n",
    "connection=pymysql.connect(host=\"localhost\",user=\"root\",port=\"\",password=\"\",database=\"THEATRE\")\n",
    "mycursor=connection.cursor()\n",
    "print(\"*****WELCOME TO OUR CAFETERIA*****\")\n",
    "list1=[]\n",
    "num=int(input(\"Number of Snacks that you are going to buy from our Cafeteria: \"))\n",
    "for i in range(1, num+1):\n",
    "    x=input(\"Enter the snacks that you want from our Cafeteria: \")\n",
    "    list1.append(x)\n",
    "print(\"Snacks that you entered are:\",list1)\n",
    "time.sleep(3)\n",
    "bill=0\n",
    "for i in list1:\n",
    "    mycursor.execute(\"SELECT*FROM Snacks\")\n",
    "    records=mycursor.fetchall()\n",
    "    for j in records:\n",
    "        if i==j[0]:\n",
    "            print(j[0],\"is available in our Cafeteria\")\n",
    "            bill=bill+j[1]\n",
    "           \n",
    "print(\"***Please wait your bill is on process***\")\n",
    "time.sleep(5)        \n",
    "print(\"Your bill is: Rs.\",bill)\n",
    "print(\"**THANK YOU VISIT AGAIN**\")"
   ]
  },
  {
   "cell_type": "code",
   "execution_count": null,
   "metadata": {},
   "outputs": [],
   "source": []
  }
 ],
 "metadata": {
  "kernelspec": {
   "display_name": "Python 3",
   "language": "python",
   "name": "python3"
  },
  "language_info": {
   "codemirror_mode": {
    "name": "ipython",
    "version": 3
   },
   "file_extension": ".py",
   "mimetype": "text/x-python",
   "name": "python",
   "nbconvert_exporter": "python",
   "pygments_lexer": "ipython3",
   "version": "3.7.3"
  }
 },
 "nbformat": 4,
 "nbformat_minor": 4
}
